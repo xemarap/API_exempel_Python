{
 "cells": [
  {
   "cell_type": "markdown",
   "id": "a726178a-aad6-48ee-9581-2f2831251970",
   "metadata": {},
   "source": [
    "# Befolkningsutveckling på DeSO, Stockholms län"
   ]
  },
  {
   "cell_type": "markdown",
   "id": "8f9cd5a8-77b9-4764-b184-b8fe6524f868",
   "metadata": {},
   "source": [
    "## Inledning\n",
    "Detta är ett skript för att hämta befolkningsstatistik med API från SCB för demografiska statistikområden (DeSO) inom Stockholms län."
   ]
  },
  {
   "cell_type": "markdown",
   "id": "00691992-fd8d-4e53-a7e4-2c40ad83659c",
   "metadata": {
    "tags": []
   },
   "source": [
    "## Hämta data från SCB\n",
    "För att hämta statistik från SCB med API används biblioteket Pyscbwrapper.\n",
    "\n",
    "Läs mer om Pyscbwrapper här: https://github.com/kirajcg/pyscbwrapper/blob/master/pyscbwrapper.ipynb"
   ]
  },
  {
   "cell_type": "code",
   "execution_count": 1,
   "id": "f4055565-9a26-4ebd-a3c2-106c36206629",
   "metadata": {
    "tags": []
   },
   "outputs": [],
   "source": [
    "#Importera bibliotek\n",
    "from pyscbwrapper import SCB\n",
    "import pandas as pd"
   ]
  },
  {
   "cell_type": "code",
   "execution_count": 2,
   "id": "9dca6653-f787-4625-bf66-700d9b1fed90",
   "metadata": {
    "tags": []
   },
   "outputs": [],
   "source": [
    "#Initiera SCB\n",
    "scb = SCB('sv')\n",
    "\n",
    "#Välj tabell\n",
    "scb.go_down('BE', 'BE0101', 'BE0101Y', 'FolkmDesoKonN')"
   ]
  },
  {
   "cell_type": "code",
   "execution_count": 3,
   "id": "27f724ef-8b6e-4956-a0ba-8d5aeb8ad965",
   "metadata": {
    "tags": []
   },
   "outputs": [
    {
     "name": "stdout",
     "output_type": "stream",
     "text": [
      "{'key': ['01', '1+2', '2010'], 'values': ['2054343']}\n",
      "{'key': ['01', '1+2', '2011'], 'values': ['2091473']}\n",
      "{'key': ['01', '1+2', '2012'], 'values': ['2127006']}\n"
     ]
    }
   ],
   "source": [
    "#Ladda hem data\n",
    "\n",
    "import re\n",
    "#Använd re för att filtrera vilken/vilka region(er) du vill hämta data för\n",
    "regioner = scb.get_variables()['region']\n",
    "r = re.compile('^01')\n",
    "deso = list(filter(r.match, regioner))\n",
    "\n",
    "# Skapa en fråga att skicka till databasen\n",
    "scb.set_query(region = deso,\n",
    "              kön = ['totalt'])\n",
    "\n",
    "# Inspektera fråga\n",
    "scb.get_query()\n",
    "\n",
    "# Hämta metadata och extrahera data\n",
    "scb_metadata = scb.get_data()\n",
    "scb_data = scb_metadata['data']\n",
    "\n",
    "# Inspektera endast de främsta raderna av data i JSON format\n",
    "num_rows = 3\n",
    "\n",
    "# Inspektera de tre första raderna\n",
    "for row in scb_data[:num_rows]:\n",
    "    print(row)"
   ]
  },
  {
   "cell_type": "code",
   "execution_count": 4,
   "id": "ded460ea-ac3e-4768-805d-f68dcfc18166",
   "metadata": {
    "tags": []
   },
   "outputs": [
    {
     "data": {
      "text/html": [
       "<div>\n",
       "<style scoped>\n",
       "    .dataframe tbody tr th:only-of-type {\n",
       "        vertical-align: middle;\n",
       "    }\n",
       "\n",
       "    .dataframe tbody tr th {\n",
       "        vertical-align: top;\n",
       "    }\n",
       "\n",
       "    .dataframe thead th {\n",
       "        text-align: right;\n",
       "    }\n",
       "</style>\n",
       "<table border=\"1\" class=\"dataframe\">\n",
       "  <thead>\n",
       "    <tr style=\"text-align: right;\">\n",
       "      <th></th>\n",
       "      <th>befolkning</th>\n",
       "      <th>Deso</th>\n",
       "      <th>kön</th>\n",
       "      <th>år</th>\n",
       "    </tr>\n",
       "  </thead>\n",
       "  <tbody>\n",
       "    <tr>\n",
       "      <th>0</th>\n",
       "      <td>728</td>\n",
       "      <td>0114A0010</td>\n",
       "      <td>1+2</td>\n",
       "      <td>2010</td>\n",
       "    </tr>\n",
       "    <tr>\n",
       "      <th>1</th>\n",
       "      <td>753</td>\n",
       "      <td>0114A0010</td>\n",
       "      <td>1+2</td>\n",
       "      <td>2011</td>\n",
       "    </tr>\n",
       "    <tr>\n",
       "      <th>2</th>\n",
       "      <td>762</td>\n",
       "      <td>0114A0010</td>\n",
       "      <td>1+2</td>\n",
       "      <td>2012</td>\n",
       "    </tr>\n",
       "    <tr>\n",
       "      <th>3</th>\n",
       "      <td>789</td>\n",
       "      <td>0114A0010</td>\n",
       "      <td>1+2</td>\n",
       "      <td>2013</td>\n",
       "    </tr>\n",
       "    <tr>\n",
       "      <th>4</th>\n",
       "      <td>806</td>\n",
       "      <td>0114A0010</td>\n",
       "      <td>1+2</td>\n",
       "      <td>2014</td>\n",
       "    </tr>\n",
       "  </tbody>\n",
       "</table>\n",
       "</div>"
      ],
      "text/plain": [
       "  befolkning       Deso  kön    år\n",
       "0        728  0114A0010  1+2  2010\n",
       "1        753  0114A0010  1+2  2011\n",
       "2        762  0114A0010  1+2  2012\n",
       "3        789  0114A0010  1+2  2013\n",
       "4        806  0114A0010  1+2  2014"
      ]
     },
     "execution_count": 4,
     "metadata": {},
     "output_type": "execute_result"
    }
   ],
   "source": [
    "# Konvertera en lista av dictionaries till en dictionary med dictionaries\n",
    "scb_dict = {tuple(d['key']): d['values'][0] for d in scb_data}\n",
    "\n",
    "# Skapa en DataFrame av dictionary\n",
    "df = pd.DataFrame.from_dict(scb_dict, orient='index', columns=['value'])\n",
    "\n",
    "# Sätt ett namn för index\n",
    "df.index.set_names('keys', inplace=True)\n",
    "df.reset_index(inplace=True)\n",
    "df[['Deso', 'kön', 'år']] = df['keys'].apply(pd.Series)\n",
    "df.drop('keys', axis=1, inplace=True)\n",
    "df.rename(columns={'value':'befolkning'}, inplace=True)\n",
    "\n",
    "#Extrahera endast DeSO områden (ett DeSO områdes kod har 9 karaktärer)\n",
    "mask = (df['Deso'].str.len() == 9)\n",
    "df['Deso'] = df['Deso'].loc[mask]\n",
    "df = df.dropna(subset='Deso', how='any')\n",
    "df.reset_index(inplace=True)\n",
    "df.drop('index', axis=1, inplace=True)\n",
    "\n",
    "df.head()"
   ]
  },
  {
   "cell_type": "code",
   "execution_count": 5,
   "id": "7806363a-241e-4145-9109-1364809e27ec",
   "metadata": {
    "tags": []
   },
   "outputs": [
    {
     "data": {
      "text/html": [
       "<div>\n",
       "<style scoped>\n",
       "    .dataframe tbody tr th:only-of-type {\n",
       "        vertical-align: middle;\n",
       "    }\n",
       "\n",
       "    .dataframe tbody tr th {\n",
       "        vertical-align: top;\n",
       "    }\n",
       "\n",
       "    .dataframe thead th {\n",
       "        text-align: right;\n",
       "    }\n",
       "</style>\n",
       "<table border=\"1\" class=\"dataframe\">\n",
       "  <thead>\n",
       "    <tr style=\"text-align: right;\">\n",
       "      <th></th>\n",
       "      <th>befolkning</th>\n",
       "      <th>Deso</th>\n",
       "      <th>år</th>\n",
       "      <th>kommun</th>\n",
       "    </tr>\n",
       "  </thead>\n",
       "  <tbody>\n",
       "    <tr>\n",
       "      <th>0</th>\n",
       "      <td>728</td>\n",
       "      <td>0114A0010</td>\n",
       "      <td>2010</td>\n",
       "      <td>Upplands Väsby</td>\n",
       "    </tr>\n",
       "    <tr>\n",
       "      <th>1</th>\n",
       "      <td>753</td>\n",
       "      <td>0114A0010</td>\n",
       "      <td>2011</td>\n",
       "      <td>Upplands Väsby</td>\n",
       "    </tr>\n",
       "    <tr>\n",
       "      <th>2</th>\n",
       "      <td>762</td>\n",
       "      <td>0114A0010</td>\n",
       "      <td>2012</td>\n",
       "      <td>Upplands Väsby</td>\n",
       "    </tr>\n",
       "    <tr>\n",
       "      <th>3</th>\n",
       "      <td>789</td>\n",
       "      <td>0114A0010</td>\n",
       "      <td>2013</td>\n",
       "      <td>Upplands Väsby</td>\n",
       "    </tr>\n",
       "    <tr>\n",
       "      <th>4</th>\n",
       "      <td>806</td>\n",
       "      <td>0114A0010</td>\n",
       "      <td>2014</td>\n",
       "      <td>Upplands Väsby</td>\n",
       "    </tr>\n",
       "  </tbody>\n",
       "</table>\n",
       "</div>"
      ],
      "text/plain": [
       "  befolkning       Deso    år          kommun\n",
       "0        728  0114A0010  2010  Upplands Väsby\n",
       "1        753  0114A0010  2011  Upplands Väsby\n",
       "2        762  0114A0010  2012  Upplands Väsby\n",
       "3        789  0114A0010  2013  Upplands Väsby\n",
       "4        806  0114A0010  2014  Upplands Väsby"
      ]
     },
     "execution_count": 5,
     "metadata": {},
     "output_type": "execute_result"
    }
   ],
   "source": [
    "#Lägg till kommunnamn som kolumn\n",
    "\n",
    "# Definiera mappning\n",
    "kommun_mapping = {\n",
    "    '0114': 'Upplands Väsby',\n",
    "    '0115': 'Vallentuna',\n",
    "    '0117': 'Österåker',\n",
    "    '0120': 'Värmdö',\n",
    "    '0123': 'Järfälla',\n",
    "    '0125': 'Ekerö',\n",
    "    '0126': 'Huddinge',\n",
    "    '0127': 'Botkyrka',\n",
    "    '0128': 'Salem',\n",
    "    '0136': 'Haninge',\n",
    "    '0138': 'Tyresö',\n",
    "    '0139': 'Upplands-Bro',\n",
    "    '0140': 'Nykvarn',\n",
    "    '0160': 'Täby',\n",
    "    '0162': 'Danderyd',\n",
    "    '0163': 'Sollentuna',\n",
    "    '0180': 'Stockholm',\n",
    "    '0181': 'Södertälje',\n",
    "    '0182': 'Nacka',\n",
    "    '0183': 'Sundbyberg',\n",
    "    '0184': 'Solna',\n",
    "    '0186': 'Lidingö',\n",
    "    '0187': 'Vaxholm',\n",
    "    '0188': 'Norrtälje',\n",
    "    '0191': 'Sigtuna',\n",
    "    '0192': 'Nynäshamn'\n",
    "}\n",
    "\n",
    "# Skapa 'kommun' variabel baserad på 'deso'\n",
    "df['kommun'] = df['Deso'].str[:4].map(kommun_mapping)\n",
    "df.drop('kön', axis=1, inplace=True)\n",
    "\n",
    "df.head()"
   ]
  }
 ],
 "metadata": {
  "kernelspec": {
   "display_name": "Python 3 (ipykernel)",
   "language": "python",
   "name": "python3"
  },
  "language_info": {
   "codemirror_mode": {
    "name": "ipython",
    "version": 3
   },
   "file_extension": ".py",
   "mimetype": "text/x-python",
   "name": "python",
   "nbconvert_exporter": "python",
   "pygments_lexer": "ipython3",
   "version": "3.11.1"
  }
 },
 "nbformat": 4,
 "nbformat_minor": 5
}
